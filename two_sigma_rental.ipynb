{
  "nbformat": 4,
  "nbformat_minor": 0,
  "metadata": {
    "kernelspec": {
      "name": "pycharm-25f54262",
      "language": "python",
      "display_name": "PyCharm (tensor flow)"
    },
    "language_info": {
      "codemirror_mode": {
        "name": "ipython",
        "version": 2
      },
      "file_extension": ".py",
      "mimetype": "text/x-python",
      "name": "python",
      "nbconvert_exporter": "python",
      "pygments_lexer": "ipython2",
      "version": "2.7.6"
    },
    "colab": {
      "name": "two-sigma-rental-feature.ipynb",
      "provenance": [],
      "collapsed_sections": [],
      "toc_visible": true,
      "include_colab_link": true
    }
  },
  "cells": [
    {
      "cell_type": "markdown",
      "metadata": {
        "id": "view-in-github",
        "colab_type": "text"
      },
      "source": [
        "<a href=\"https://colab.research.google.com/github/ShenghanZhang/Blog-Back-Up/blob/master/two_sigma_rental.ipynb\" target=\"_parent\"><img src=\"https://colab.research.google.com/assets/colab-badge.svg\" alt=\"Open In Colab\"/></a>"
      ]
    },
    {
      "cell_type": "code",
      "metadata": {
        "id": "JbKnP-_sUEy1",
        "outputId": "ee250bad-a76e-4db1-8b02-757c32a0f31a",
        "colab": {
          "base_uri": "https://localhost:8080/"
        }
      },
      "source": [
        "from google.colab import drive\n",
        "drive.mount('/content/drive')"
      ],
      "execution_count": 1,
      "outputs": [
        {
          "output_type": "stream",
          "text": [
            "Mounted at /content/drive\n"
          ],
          "name": "stdout"
        }
      ]
    },
    {
      "cell_type": "code",
      "metadata": {
        "id": "t3u1mlnMUJWM"
      },
      "source": [
        "import sys\n",
        "sys.path.append('/content/drive/My Drive/Colab Notebooks/sigma two rental')"
      ],
      "execution_count": 2,
      "outputs": []
    },
    {
      "cell_type": "code",
      "metadata": {
        "id": "Ai9PrICrUBzD"
      },
      "source": [
        "import pandas as pd\n",
        "import numpy as np\n",
        "\n",
        "import re\n",
        "import nltk\n",
        "from nltk.tag import pos_tag\n",
        "from nltk import word_tokenize\n",
        "from nltk.corpus import stopwords\n",
        "from nltk.stem import PorterStemmer\n",
        "\n",
        "import matplotlib.pyplot as plt\n",
        "import seaborn as sns\n",
        "\n",
        "from collections import defaultdict,Counter\n",
        "from tqdm import  tqdm\n",
        "from sklearn.model_selection import train_test_split, KFold\n",
        "from sklearn.model_selection import GridSearchCV\n",
        "from sklearn.ensemble import RandomForestClassifier\n",
        "from sklearn.metrics import log_loss\n",
        "import xgboost as xgb\n",
        "\n",
        "pd.set_option('display.max_rows', 500)\n",
        "pd.set_option('display.max_columns', 500)\n",
        "pd.set_option('display.width', 1000)\n",
        "color = sns.color_palette()\n",
        "\n",
        "%matplotlib inline"
      ],
      "execution_count": 7,
      "outputs": []
    },
    {
      "cell_type": "code",
      "metadata": {
        "pycharm": {
          "name": "#%%\n"
        },
        "id": "YzL_5YO-UBzH",
        "outputId": "45e1b2e8-fd0f-494f-e9c3-6fb107083840",
        "colab": {
          "base_uri": "https://localhost:8080/"
        }
      },
      "source": [
        "# import nltk\n",
        "nltk.download('averaged_perceptron_tagger')\n",
        "nltk.download('stopwords')"
      ],
      "execution_count": 37,
      "outputs": [
        {
          "output_type": "stream",
          "text": [
            "[nltk_data] Downloading package averaged_perceptron_tagger to\n",
            "[nltk_data]     /root/nltk_data...\n",
            "[nltk_data]   Package averaged_perceptron_tagger is already up-to-\n",
            "[nltk_data]       date!\n",
            "[nltk_data] Downloading package stopwords to /root/nltk_data...\n",
            "[nltk_data]   Unzipping corpora/stopwords.zip.\n"
          ],
          "name": "stdout"
        },
        {
          "output_type": "execute_result",
          "data": {
            "text/plain": [
              "True"
            ]
          },
          "metadata": {
            "tags": []
          },
          "execution_count": 37
        }
      ]
    },
    {
      "cell_type": "code",
      "metadata": {
        "id": "U_mTTRkidH0f"
      },
      "source": [
        "PATH = '/content/drive/My Drive/Colab Notebooks/sigma two rental/'"
      ],
      "execution_count": 55,
      "outputs": []
    },
    {
      "cell_type": "code",
      "metadata": {
        "pycharm": {
          "name": "#%%\n"
        },
        "id": "vI3WhuBUUBzK",
        "outputId": "78d4464b-1703-44b2-f003-4e6bf3465d3e",
        "colab": {
          "base_uri": "https://localhost:8080/"
        }
      },
      "source": [
        "df_train = pd.read_json('/content/drive/My Drive/Colab Notebooks/sigma two rental/input/train.json.zip',compression='zip')\n",
        "df_test = pd.read_json('/content/drive/My Drive/Colab Notebooks/sigma two rental/input/test.json.zip',compression='zip')\n",
        "\n",
        "print('Training Set Shape = {}'.format(df_train.shape))\n",
        "print('Training Set Memory Usage = {:.2f} MB'.format(df_train.memory_usage().sum() / 1024**2))\n",
        "print('Test Set Shape = {}'.format(df_test.shape))\n",
        "print('Test Set Memory Usage = {:.2f} MB'.format(df_test.memory_usage().sum() / 1024**2))"
      ],
      "execution_count": 41,
      "outputs": [
        {
          "output_type": "stream",
          "text": [
            "Training Set Shape = (49352, 15)\n",
            "Training Set Memory Usage = 6.02 MB\n",
            "Test Set Shape = (74659, 14)\n",
            "Test Set Memory Usage = 8.54 MB\n"
          ],
          "name": "stdout"
        }
      ]
    },
    {
      "cell_type": "markdown",
      "metadata": {
        "id": "hjm9hZ0NWvcG"
      },
      "source": [
        "### Naive features"
      ]
    },
    {
      "cell_type": "code",
      "metadata": {
        "pycharm": {
          "name": "#%%\n"
        },
        "id": "Bl5BP20BUBzO"
      },
      "source": [
        "features_to_use = ['bathrooms', 'bedrooms', 'price','listing_id']"
      ],
      "execution_count": 12,
      "outputs": []
    },
    {
      "cell_type": "code",
      "metadata": {
        "pycharm": {
          "name": "#%%\n"
        },
        "id": "53gWa3MJUBzQ"
      },
      "source": [
        "df_train['room_diff'] = df_train['bedrooms'] - df_train['bathrooms']\n",
        "df_train['room_sum'] = df_train['bedrooms'] - df_train['bathrooms']\n",
        "df_train['price_t'] = df_train['price'] /(df_train['bedrooms'] + df_train['bathrooms'] + 1)\n",
        "df_train['price_t1'] = df_train['price'] /(df_train['bedrooms'] +  1)\n",
        "\n",
        "\n",
        "df_train[\"created\"] = pd.to_datetime(df_train[\"created\"])\n",
        "df_train[\"created_year\"] = df_train[\"created\"].dt.year\n",
        "df_train[\"created_month\"] = df_train[\"created\"].dt.month\n",
        "df_train[\"created_day\"] = df_train[\"created\"].dt.day\n",
        "df_train[\"created_hour\"] = df_train[\"created\"].dt.hour\n",
        "df_train[\"created_dayofweek\"] = df_train[\"created\"].dt.dayofweek\n",
        "df_train['total_days'] = (df_train[\"created\"] - pd.Timestamp('2016-04-02 23:59:59')).astype('timedelta64[h]') /24\n",
        "\n",
        "df_train['n_photos'] = df_train.photos.apply(len)"
      ],
      "execution_count": 42,
      "outputs": []
    },
    {
      "cell_type": "code",
      "metadata": {
        "pycharm": {
          "name": "#%%\n"
        },
        "id": "33-NQL7PUBzS"
      },
      "source": [
        "features_to_add = ['total_days','price_t','price_t1','room_diff','room_sum','n_photos']\n",
        "features_to_use.extend(features_to_add)"
      ],
      "execution_count": 14,
      "outputs": []
    },
    {
      "cell_type": "markdown",
      "metadata": {
        "collapsed": false,
        "id": "OZ3i5peiUBzY"
      },
      "source": [
        "### longitude and latitude\n",
        "1. clusters"
      ]
    },
    {
      "cell_type": "code",
      "metadata": {
        "pycharm": {
          "name": "#%%\n"
        },
        "id": "v_3AYFyQUBzY",
        "outputId": "6c7dcb1f-72df-490f-c0d7-fb5c16875a6b",
        "colab": {
          "base_uri": "https://localhost:8080/",
          "height": 281
        }
      },
      "source": [
        "plt.scatter(df_train.loc[(df_train[\"longitude\"]<-73.75)&(df_train[\"longitude\"]>-74.05)&(df_train[\"latitude\"]>40.4)&(df_train[\"latitude\"]<40.9),\"longitude\"],\n",
        "                      df_train.loc[(df_train[\"latitude\"]>40.4)&(df_train[\"latitude\"]<40.9)&(df_train[\"longitude\"]<-73.75)&(df_train[\"longitude\"]>-74.05),\"latitude\"], s=5)\n",
        "plt.title(\"Geographical positions of the listings\")\n",
        "plt.show()"
      ],
      "execution_count": 15,
      "outputs": [
        {
          "output_type": "display_data",
          "data": {
            "image/png": "[encoded data removed]",
            "text/plain": [
              "<Figure size 432x288 with 1 Axes>"
            ]
          },
          "metadata": {
            "tags": [],
            "needs_background": "light"
          }
        }
      ]
    },
    {
      "cell_type": "code",
      "metadata": {
        "pycharm": {
          "name": "#%%\n"
        },
        "id": "mYmEeMiiUBza"
      },
      "source": [
        "from sklearn.cluster import Birch\n",
        "def cluster_latlon(n_clusters, data):\n",
        "    #split the data between \"around NYC\" and \"other locations\" basically our first two clusters\n",
        "\n",
        "    #put it in matrix form\n",
        "    coords= list(zip(data.longitude,data.latitude))\n",
        "\n",
        "    brc = Birch(branching_factor=100, n_clusters=n_clusters, threshold=0.01,compute_labels=True)\n",
        "    brc.fit(coords)\n",
        "    clusters=brc.predict(coords)\n",
        "\n",
        "    plt.scatter(data[\"longitude\"], data[\"latitude\"], c=clusters, s=10, linewidth=0.1)\n",
        "    plt.title(str(n_clusters)+\" Neighbourhoods from clustering\")\n",
        "    plt.show()\n",
        "    return clusters,brc"
      ],
      "execution_count": 44,
      "outputs": []
    },
    {
      "cell_type": "code",
      "metadata": {
        "pycharm": {
          "name": "#%%\n"
        },
        "id": "W4YJwTqFUBzc",
        "outputId": "22a685e7-d155-40a1-cb23-ec3339d6b206",
        "colab": {
          "base_uri": "https://localhost:8080/",
          "height": 281
        }
      },
      "source": [
        "n_clusters = 50\n",
        "clusters_k = \"cluster_\"+str(n_clusters)\n",
        "index_c = (df_train.longitude>-74.05)&(df_train.longitude<-73.75)&(df_train.latitude>40.4)&(df_train.latitude<40.9)\n",
        "\n",
        "clusters,brc = cluster_latlon(n_clusters,df_train.loc[index_c])"
      ],
      "execution_count": 45,
      "outputs": [
        {
          "output_type": "display_data",
          "data": {
            "image/png": "[encoded data removed]",
            "text/plain": [
              "<Figure size 432x288 with 1 Axes>"
            ]
          },
          "metadata": {
            "tags": [],
            "needs_background": "light"
          }
        }
      ]
    },
    {
      "cell_type": "code",
      "metadata": {
        "pycharm": {
          "name": "#%%\n"
        },
        "id": "64OscS6sUBzg"
      },
      "source": [
        "df_train[clusters_k] = -1\n",
        "df_train.loc[index_c,clusters_k] = clusters"
      ],
      "execution_count": 46,
      "outputs": []
    },
    {
      "cell_type": "code",
      "metadata": {
        "pycharm": {
          "name": "#%%\n"
        },
        "id": "Bzsb-1-CUBzk"
      },
      "source": [
        "clusters2rank = df_train.loc[df_train[clusters_k]!= -1 , clusters_k].value_counts(ascending= True).rank(method = 'first')\n",
        "clusters2rank[-1] = 0\n",
        "df_train['cluster_rank'] = -1\n",
        "df_train.loc[df_train[clusters_k]!= -1 , 'cluster_rank'] = df_train[clusters_k].map(lambda x: int(clusters2rank[int(x)]) -1)"
      ],
      "execution_count": 47,
      "outputs": []
    },
    {
      "cell_type": "markdown",
      "metadata": {
        "id": "1U5EtPBhWhHR"
      },
      "source": [
        "2. Rotation"
      ]
    },
    {
      "cell_type": "code",
      "metadata": {
        "pycharm": {
          "name": "#%%\n"
        },
        "id": "iooP3jNmUBzl"
      },
      "source": [
        "import math\n",
        "def cart2rho(x, y):\n",
        "    rho = np.sqrt(x**2 + y**2)\n",
        "    return rho\n",
        "\n",
        "\n",
        "def cart2phi(x, y):\n",
        "    phi = np.arctan2(y, x)\n",
        "    return phi\n",
        "\n",
        "\n",
        "def rotation_x(row, alpha):\n",
        "    x = row['latitude']\n",
        "    y = row['longitude']\n",
        "    return x*math.cos(alpha) + y*math.sin(alpha)\n",
        "\n",
        "\n",
        "def rotation_y(row, alpha):\n",
        "    x = row['latitude']\n",
        "    y = row['longitude']\n",
        "    return y*math.cos(alpha) - x*math.sin(alpha)\n",
        "\n",
        "\n",
        "def add_rotation(degrees, df):\n",
        "    namex = \"rot\" + str(degrees) + \"_X\"\n",
        "    namey = \"rot\" + str(degrees) + \"_Y\"\n",
        "\n",
        "    df['num_' + namex] = df.apply(lambda row: rotation_x(row, math.pi/(180/degrees)), axis=1)\n",
        "    df['num_' + namey] = df.apply(lambda row: rotation_y(row, math.pi/(180/degrees)), axis=1)\n",
        "\n",
        "    return df\n",
        "\n",
        "def operate_on_coordinates(tr_df, te_df):\n",
        "    for df in [tr_df, te_df]:\n",
        "        #polar coordinates system\n",
        "        df[\"num_rho\"] = df.apply(lambda x: cart2rho(x[\"latitude\"] - 40.78222222, x[\"longitude\"]+73.96527777), axis=1)\n",
        "        df[\"num_phi\"] = df.apply(lambda x: cart2phi(x[\"latitude\"] - 40.78222222, x[\"longitude\"]+73.96527777), axis=1)\n",
        "        #rotations\n",
        "        for angle in [15,30,45,60]:\n",
        "            df = add_rotation(angle, df)\n",
        "\n",
        "    return tr_df, te_df\n",
        "\n",
        "train_df, test_df = operate_on_coordinates(df_train, df_test)\n"
      ],
      "execution_count": 48,
      "outputs": []
    },
    {
      "cell_type": "code",
      "metadata": {
        "id": "UAM_IAdRcNHX"
      },
      "source": [
        "features_to_use.extend(['num_rho', 'num_phi', 'num_rot15_X', 'num_rot15_Y', 'num_rot30_X',\n",
        "       'num_rot30_Y', 'num_rot45_X', 'num_rot45_Y', 'num_rot60_X',\n",
        "       'num_rot60_Y'])"
      ],
      "execution_count": null,
      "outputs": []
    },
    {
      "cell_type": "code",
      "metadata": {
        "pycharm": {
          "name": "#%%\n"
        },
        "id": "01eUcmCZUBzp"
      },
      "source": [
        "interest_level = pd.get_dummies(df_train['interest_level'],columns=['interest_level'])"
      ],
      "execution_count": 49,
      "outputs": []
    },
    {
      "cell_type": "code",
      "metadata": {
        "pycharm": {
          "name": "#%%\n"
        },
        "id": "fp9jgCdVUBzr"
      },
      "source": [
        "cluster_df = pd.concat([df_train[['cluster_50','price_t','price_t1']],interest_level],axis= 1)\n",
        "cluster_df = cluster_df.groupby(by = 'cluster_50').agg([np.mean,np.std,np.median])"
      ],
      "execution_count": 50,
      "outputs": []
    },
    {
      "cell_type": "code",
      "metadata": {
        "pycharm": {
          "name": "#%%\n"
        },
        "id": "fx5Sx8vgUBzt"
      },
      "source": [
        ""
      ],
      "execution_count": 56,
      "outputs": []
    },
    {
      "cell_type": "code",
      "metadata": {
        "pycharm": {
          "name": "#%%\n"
        },
        "id": "-2_lrbGdUBzu"
      },
      "source": [
        "df_train['cluster_low'] = df_train['cluster_50'].apply(lambda x: cluster_df.loc[x,( 'low','mean')])\n",
        "df_train['cluster_medium'] = df_train['cluster_50'].apply(lambda x: cluster_df.loc[x,( 'medium','mean')])\n",
        "df_train['cluster_high'] =df_train['cluster_50'].apply(lambda x: cluster_df.loc[x,( 'high','mean')])\n",
        "df_train['cluster_skill'] = 2 * df_train['cluster_high'] + df_train['cluster_medium']\n",
        "\n",
        "df_train['cluster_p_mean'] =df_train['cluster_50'].apply(lambda x: cluster_df.loc[x,( 'price_t','mean')])\n",
        "df_train['cluster_p_median'] =df_train['cluster_50'].apply(lambda x: cluster_df.loc[x,( 'price_t','median')])\n",
        "df_train['cluster_p_std'] =df_train['cluster_50'].apply(lambda x: cluster_df.loc[x,( 'price_t','std')])\n",
        "\n",
        "df_train['cluster_p1_mean'] =df_train['cluster_50'].apply(lambda x: cluster_df.loc[x,( 'price_t1','mean')])\n",
        "df_train['cluster_p1_median'] =df_train['cluster_50'].apply(lambda x: cluster_df.loc[x,( 'price_t1','median')])\n",
        "df_train['cluster_p1_std'] =df_train['cluster_50'].apply(lambda x: cluster_df.loc[x,( 'price_t1','std')])\n",
        "\n",
        "\n",
        "df_train['rel_cluster_p'] = (df_train['price_t'] - df_train['cluster_p_mean']) / df_train['cluster_p_std']\n",
        "df_train['rel_cluster_p1'] = (df_train['price_t1'] - df_train['cluster_p1_mean']) / df_train['cluster_p1_std']\n",
        "\n",
        "df_train['rel_cluster_p_median'] = df_train['price_t'] / df_train['cluster_p_median']\n",
        "df_train['rel_cluster_p1_median'] = df_train['price_t1']/ df_train['cluster_p1_median']"
      ],
      "execution_count": 52,
      "outputs": []
    },
    {
      "cell_type": "code",
      "metadata": {
        "pycharm": {
          "name": "#%%\n"
        },
        "id": "5dPBH_NdUBzw"
      },
      "source": [
        "features_to_add = [\n",
        "    'cluster_rank','cluster_skill',\n",
        "    'cluster_low','cluster_medium','cluster_high',\n",
        "    'cluster_p_mean','cluster_p1_mean',\n",
        "    'cluster_p_median','cluster_p1_median',\n",
        "    'rel_cluster_p','rel_cluster_p1',\n",
        "    'rel_cluster_p_median','rel_cluster_p1_median'\n",
        "    ]\n",
        "features_to_use.extend(features_to_add)"
      ],
      "execution_count": 26,
      "outputs": []
    },
    {
      "cell_type": "markdown",
      "metadata": {
        "collapsed": false,
        "pycharm": {
          "name": "#%% md\n"
        },
        "id": "k_weihJJUBz2"
      },
      "source": [
        "### manager_id"
      ]
    },
    {
      "cell_type": "code",
      "metadata": {
        "pycharm": {
          "name": "#%%\n"
        },
        "id": "D3QYWr0UUBz2"
      },
      "source": [
        "manager_df = pd.concat([df_train['manager_id'],interest_level],axis= 1)\n",
        "manager_df = manager_df.groupby(by = 'manager_id').agg(np.mean)\n",
        "manager_df['manager_skill'] = 2 * manager_df['high']  + 1 * manager_df['medium']\n",
        "manager_df['m_vec'] = manager_df.apply(lambda x: (x.high,x.medium, x.low),axis=1)\n",
        "\n",
        "\n",
        "df_train['manager_high'] = df_train.manager_id.apply(lambda x : manager_df.loc[x,'high'])\n",
        "df_train['manager_medium'] = df_train.manager_id.apply(lambda x : manager_df.loc[x,'medium'])\n",
        "df_train['manager_low'] = df_train.manager_id.apply(lambda x : manager_df.loc[x,'low'])\n",
        "df_train['manager_skill'] = 2* df_train['manager_high'] + df_train['manager_medium']"
      ],
      "execution_count": 53,
      "outputs": []
    },
    {
      "cell_type": "code",
      "metadata": {
        "pycharm": {
          "name": "#%%\n"
        },
        "id": "CdIsjTWpUBz4"
      },
      "source": [
        "features_to_add = ['manager_high','manager_medium','manager_low','manager_skill']\n",
        "features_to_use.extend(features_to_add)"
      ],
      "execution_count": 28,
      "outputs": []
    },
    {
      "cell_type": "markdown",
      "metadata": {
        "collapsed": false,
        "pycharm": {
          "name": "#%% md\n"
        },
        "id": "8CZWROgbUBz6"
      },
      "source": [
        "## description\n",
        "### basic capture of descriptions\n"
      ]
    },
    {
      "cell_type": "code",
      "metadata": {
        "pycharm": {
          "name": "#%%\n"
        },
        "id": "fbl1x_OwUBz6"
      },
      "source": [
        "def cap_share(x):\n",
        "    return sum(1 for c in x if c.isupper())/float(len(x)+1)\n",
        "\n",
        "# do you think that users might feel annoyed BY A DESCRIPTION THAT IS SHOUTING AT THEM?\n",
        "df_train['num_cap_share'] = df_train['description'].apply(cap_share)\n",
        "\n",
        "# how long in lines the desc is?\n",
        "df_train['num_nr_of_lines'] = df_train['description'].apply(lambda x: x.count('<br /><br />'))\n",
        "\n",
        "# is the description redacted by the website?\n",
        "df_train['num_redacted'] = 0\n",
        "df_train.loc[df_train['description'].str.contains('website_redacted'),'num_redacted'] = 1\n",
        "\n",
        "# can we contact someone via e-mail to ask for the details?\n",
        "df_train['num_email'] = 0\n",
        "df_train.loc[df_train['description'].str.contains('@'),'num_email'] = 1\n",
        "\n",
        "\n",
        "df_train['num_description_words'] = df_train['description'].apply(lambda x: len(x.split()))"
      ],
      "execution_count": 57,
      "outputs": []
    },
    {
      "cell_type": "code",
      "metadata": {
        "pycharm": {
          "name": "#%%\n"
        },
        "id": "pnV_shMZUBz8"
      },
      "source": [
        "features_to_add = ['num_description_words','num_email','num_redacted','num_nr_of_lines','num_cap_share']\n",
        "features_to_use.extend(features_to_add)"
      ],
      "execution_count": 34,
      "outputs": []
    },
    {
      "cell_type": "markdown",
      "metadata": {
        "collapsed": false,
        "pycharm": {
          "name": "#%% md\n"
        },
        "id": "8UHj_oGoUBz9"
      },
      "source": [
        "### description\n"
      ]
    },
    {
      "cell_type": "code",
      "metadata": {
        "id": "AYlKBWNJdtOQ"
      },
      "source": [
        "for i in df_train['description']:\n",
        "  text = i.lower()"
      ],
      "execution_count": 60,
      "outputs": []
    },
    {
      "cell_type": "code",
      "metadata": {
        "pycharm": {
          "name": "#%%\n"
        },
        "id": "fF5Kt8S_UBz-"
      },
      "source": [
        "from sklearn.feature_extraction.text import CountVectorizer\n",
        "\n",
        "stop = stopwords.words('english')\n",
        "\n",
        "def cleaning_text(sentence):\n",
        "   word_stemmer = PorterStemmer()\n",
        "   sentence=sentence.lower()\n",
        "   sentence=re.sub('[^\\w\\s]',' ', sentence) #removes punctuations\n",
        "   sentence=re.sub('\\d+',' ', sentence) #removes digits\n",
        "   cleaned=' '.join([w for w in sentence.split() if not w in stop]) # removes english stopwords\n",
        "   cleaned=' '.join([w for w , pos in pos_tag(cleaned.split()) if (pos == 'NN' or pos=='JJ' or pos=='JJR' or pos=='JJS' )])\n",
        "   #selecting only nouns and adjectives\n",
        "   cleaned=' '.join([word_stemmer.stem(w) for w in cleaned.split() if not len(w)<=2 ]) #removes single lettered words and digits\n",
        "   cleaned=cleaned.strip()\n",
        "   return cleaned\n",
        "\n",
        "df_train['cleaned']= df_train['description'].apply(lambda x: cleaning_text(x))\n",
        "\n",
        "# df_train['cfeatures']=df_train['features'].apply(lambda x: ', '.join(x))\n",
        "# df_train['feat_cleaned']= df_train['cfeatures'].apply(lambda x: cleaning_text(x))\n",
        "# df_train[\"final_feat\"] = df_train[\"cleaned\"].map(str) +\" \"+df_train[\"feat_cleaned\"]\n",
        "# df_train['final_feat'].head()"
      ],
      "execution_count": 61,
      "outputs": []
    },
    {
      "cell_type": "code",
      "metadata": {
        "pycharm": {
          "name": "#%%\n"
        },
        "id": "oagbTWp3UB0A"
      },
      "source": [
        "df_test['cleaned']= df_test['description'].apply(lambda x: cleaning_text(x))\n",
        "\n",
        "# df_test['cfeatures']=df_test['features'].apply(lambda x: ', '.join(x))\n",
        "# df_test['feat_cleaned']= df_test['cfeatures'].apply(lambda x: cleaning_text(x))\n",
        "# df_test[\"final_feat\"] = df_test[\"cleaned\"].map(str) +\" \"+df_test[\"feat_cleaned\"]\n",
        "# df_test['final_feat'].head()"
      ],
      "execution_count": 63,
      "outputs": []
    },
    {
      "cell_type": "code",
      "metadata": {
        "pycharm": {
          "name": "#%%\n"
        },
        "id": "jCu-GMJFUB0D"
      },
      "source": [
        "from sklearn.feature_extraction.text import CountVectorizer #Can use tfidffvectorizer as well\n",
        "\n",
        "cvect_desc = CountVectorizer(stop_words='english', max_features=200)\n",
        "\n",
        "train_sparse = cvect_desc.fit_transform(df_train.cleaned)\n",
        "col_desc = [i for i in cvect_desc.get_feature_names()]\n",
        "train_des_count = pd.DataFrame(train_sparse.todense(), columns=col_desc,index = df_train.index)\n",
        "train_des_count = pd.concat([train_des_count,df_train.interest_level],axis = 1)\n",
        "\n",
        "train_des_count['interest_level'] = df_train.interest_level\n",
        "\n",
        "test_sparse = cvect_desc.transform(df_test.cleaned)\n",
        "test_des_count = pd.DataFrame(test_sparse.todense(), columns=col_desc)"
      ],
      "execution_count": 64,
      "outputs": []
    },
    {
      "cell_type": "code",
      "metadata": {
        "pycharm": {
          "name": "#%%\n"
        },
        "id": "XQYuq4E1UB0E"
      },
      "source": [
        "from sklearn.feature_extraction.text import TfidfVectorizer\n",
        "tfidf_desc = TfidfVectorizer(stop_words='english', max_features=200)\n",
        "\n",
        "train_sparse_tf = tfidf_desc.fit_transform(df_train.cleaned)\n",
        "col_desc_tf = [i for i in tfidf_desc.get_feature_names()]\n",
        "train_des_tf = pd.DataFrame(train_sparse_tf.todense(), columns=col_desc_tf,index = df_train.index)\n",
        "train_des_tf = pd.concat([train_des_tf,df_train.interest_level],axis = 1)\n",
        "\n",
        "test_sparse_tf = tfidf_desc.transform(df_test.cleaned)\n",
        "test_des_tf = pd.DataFrame(test_sparse_tf.todense(), columns=col_desc_tf)"
      ],
      "execution_count": 65,
      "outputs": []
    },
    {
      "cell_type": "code",
      "metadata": {
        "pycharm": {
          "name": "#%%\n"
        },
        "id": "Gue1t-4wUB0H"
      },
      "source": [
        "from sklearn.ensemble import GradientBoostingClassifier  as GBM\n",
        "from sklearn.ensemble import RandomForestClassifier  as RF\n",
        "from sklearn.model_selection import StratifiedKFold\n",
        "from sklearn.metrics import log_loss\n",
        "\n",
        "def run_mod(dev_X, val_X,dev_Y,test_X):\n",
        "    reg = GBM(max_features = 'auto',n_estimators=200,random_state=1)\n",
        "    reg.fit(dev_X,dev_Y)\n",
        "    val_pred = reg.predict_proba(val_X)\n",
        "    imp = reg.feature_importances_\n",
        "    test_pred = reg.predict_proba(test_X)\n",
        "    return val_pred,imp,test_pred"
      ],
      "execution_count": 67,
      "outputs": []
    },
    {
      "cell_type": "code",
      "metadata": {
        "pycharm": {
          "name": "#%%\n"
        },
        "id": "ASc_y957UB0J"
      },
      "source": [
        "def cross_val(train_df,test_df,features_to_use,split):\n",
        "    cv_scores = []\n",
        "    importances = []\n",
        "    test_preds = []\n",
        "    val_indices = []\n",
        "    val_preds = []\n",
        "\n",
        "    target_num_map = {'high':0, 'medium':1, 'low':2}\n",
        "    train_X = train_df[features_to_use]\n",
        "    train_Y = train_df['interest_level'].apply(lambda x: target_num_map[x])\n",
        "\n",
        "    train_X = np.array(train_X)\n",
        "    train_Y = np.array(train_Y)\n",
        "\n",
        "    test_X = test_df[features_to_use]\n",
        "    test_X = np.array(test_X)\n",
        "\n",
        "    kf = StratifiedKFold(n_splits=split, shuffle=True, random_state=1)\n",
        "    for dev_index, val_index in kf.split(train_X,train_Y):\n",
        "            dev_X, val_X = train_X[dev_index,:], train_X[val_index,:]\n",
        "            dev_Y, val_Y = train_Y[dev_index,], train_Y[val_index,]\n",
        "            val_pred,imp,test_pred = run_mod(dev_X, val_X,dev_Y,test_X)\n",
        "            cv_scores.append(log_loss(val_Y, val_pred))\n",
        "            importances.append(imp)\n",
        "\n",
        "            val_indices.append(val_index)\n",
        "            val_preds.append(val_pred)\n",
        "\n",
        "            test_preds.append(test_pred)\n",
        "    return np.mean(cv_scores),importances,val_indices,val_preds,test_preds"
      ],
      "execution_count": 66,
      "outputs": []
    },
    {
      "cell_type": "code",
      "metadata": {
        "pycharm": {
          "name": "#%%\n",
          "is_executing": true
        },
        "id": "0pepTZpwUB0M"
      },
      "source": [
        "cv_score,imp,test_preds,val_indices,val_preds,test_preds = cross_val(train_des_tf,test_des_tf,test_des_tf.columns,split = 5)"
      ],
      "execution_count": null,
      "outputs": []
    },
    {
      "cell_type": "code",
      "metadata": {
        "pycharm": {
          "name": "#%%\n"
        },
        "id": "v9SxQnEIUB0N"
      },
      "source": [
        "df_test['tf_pred'] = np.mean(test_preds,axis = 0)\n",
        "#print np.average(importances,axis=0)#%%\n",
        "df_test.to_csv(PATH + 'df_test.csv')"
      ],
      "execution_count": null,
      "outputs": []
    },
    {
      "cell_type": "code",
      "metadata": {
        "pycharm": {
          "name": "#%%\n"
        },
        "id": "V_Y7AU9gUB0P"
      },
      "source": [
        "val_preds_df = pd.DataFrame(columns = ['high','medium','low'])\n",
        "\n",
        "for i in range(len(val_indices)):\n",
        "  for j in range(len(val_indices[0])):\n",
        "    val_preds_df.loc[val_indices[i][j]] = val_preds[i][j]\n",
        "val_preds_df"
      ],
      "execution_count": null,
      "outputs": []
    },
    {
      "cell_type": "markdown",
      "metadata": {
        "collapsed": false,
        "pycharm": {
          "name": "#%% md\n"
        },
        "id": "-kcX5fdeUB0S"
      },
      "source": [
        "### features"
      ]
    },
    {
      "cell_type": "code",
      "metadata": {
        "pycharm": {
          "name": "#%%\n"
        },
        "id": "1FQ4KHNIUB0S"
      },
      "source": [
        "def clean(s):\n",
        "    x = s.replace(\"-\", \"\")\n",
        "    x = s.replace('!','')\n",
        "    x = x.replace(\" \", \"\")\n",
        "    x = x.replace(\"twenty four hour\", \"24\")\n",
        "    x = x.replace(\"24/7\", \"24\")\n",
        "    x = x.replace(\"24hr\", \"24\")\n",
        "    x = x.replace(\"24-hour\", \"24\")\n",
        "    x = x.replace(\"24hour\", \"24\")\n",
        "    x = x.replace(\"24 hour\", \"24\")\n",
        "    x = x.replace(\"common\", \"cm\")\n",
        "    x = x.replace(\"concierge\", \"doorman\")\n",
        "    x = x.replace(\"bicycle\", \"bike\")\n",
        "    x = x.replace(\"private\", \"pv\")\n",
        "    x = x.replace(\"deco\", \"dc\")\n",
        "    x = x.replace(\"decorative\", \"dc\")\n",
        "    x = x.replace(\"onsite\", \"os\")\n",
        "    x = x.replace(\"outdoor\", \"od\")\n",
        "    x = x.replace(\"ss appliances\", \"stainless\")\n",
        "    return x\n",
        "\n",
        "def features_clean(features):\n",
        "    curr_features = []\n",
        "    cleaned_features = []\n",
        "    for text in features:\n",
        "        if '*' in text:\n",
        "            curr_features.extend(i for i in text.split('*') if i != '')\n",
        "        else:\n",
        "            curr_features.append(text)\n",
        "    for text in curr_features:\n",
        "        tmp = text.lower().strip()\n",
        "        tmp = clean(tmp)\n",
        "        cleaned_features.append(tmp)\n",
        "    return cleaned_features"
      ],
      "execution_count": null,
      "outputs": []
    },
    {
      "cell_type": "code",
      "metadata": {
        "pycharm": {
          "name": "#%%\n"
        },
        "id": "wHZpi0_4UB0T"
      },
      "source": [
        "df_train['clean_features'] =df_train.features.map(features_clean)\n"
      ],
      "execution_count": null,
      "outputs": []
    },
    {
      "cell_type": "code",
      "metadata": {
        "pycharm": {
          "name": "#%%\n"
        },
        "id": "z-IMosVVUB0V"
      },
      "source": [
        "k = 4\n",
        "N = 60\n",
        "\n",
        "feature_key_counts = Counter()\n",
        "for feature in df_train['clean_features']:\n",
        "    feature_keys = [f[:k] for f in feature]\n",
        "    feature_key_counts.update(feature_keys)\n",
        "\n",
        "most_common_keys = set(val[0] for val in feature_key_counts.most_common(N))"
      ],
      "execution_count": null,
      "outputs": []
    },
    {
      "cell_type": "code",
      "metadata": {
        "pycharm": {
          "name": "#%%\n"
        },
        "id": "PQpyyaM6UB0X"
      },
      "source": [
        "def num_common_feature(l,k=k,most_common_keys = most_common_keys):\n",
        "    count = 0\n",
        "    for i in l:\n",
        "        if i[:k] in most_common_keys:\n",
        "            count += 1\n",
        "    return count"
      ],
      "execution_count": null,
      "outputs": []
    },
    {
      "cell_type": "code",
      "metadata": {
        "pycharm": {
          "name": "#%%\n"
        },
        "id": "aVvpzoxnUB0Z"
      },
      "source": [
        "df_train['num_common_features'] = df_train.clean_features.map(num_common_feature)"
      ],
      "execution_count": null,
      "outputs": []
    },
    {
      "cell_type": "code",
      "metadata": {
        "pycharm": {
          "name": "#%%\n"
        },
        "id": "vr2zv9-0UB0b"
      },
      "source": [
        "features_to_add = ['num_common_features']\n",
        "features_to_use.extend(features_to_add)"
      ],
      "execution_count": null,
      "outputs": []
    },
    {
      "cell_type": "code",
      "metadata": {
        "pycharm": {
          "name": "#%%\n"
        },
        "id": "vs0Xu79YUB0d"
      },
      "source": [
        "from sklearn import preprocessing\n",
        "categorical = [\"display_address\", \"manager_id\", \"building_id\", \"street_address\"]\n",
        "for f in categorical:\n",
        "        if df_train[f].dtype=='object':\n",
        "            #print(f)\n",
        "            lbl = preprocessing.LabelEncoder()\n",
        "            lbl.fit(list(train_df[f].values) + list(test_df[f].values))\n",
        "            df_train[f] = lbl.transform(list(train_df[f].values))\n",
        "            df_test[f] = lbl.transform(list(test_df[f].values))\n",
        "            features_to_use.append(f)\n"
      ],
      "execution_count": null,
      "outputs": []
    },
    {
      "cell_type": "code",
      "metadata": {
        "pycharm": {
          "name": "#%%\n"
        },
        "id": "_SUYskXSUB0h"
      },
      "source": [
        "def group_with_time_features(data, g_feat):\n",
        "    mean_month_dict = dict(data.groupby(g_feat)['created_month'].mean())\n",
        "    data[\"mean_\" + g_feat + \"_month\"] = data.apply(lambda row: mean_month_dict[row[g_feat]], axis=1)\n",
        "    mean_day_dict = dict(data.groupby(g_feat)['created_day'].mean())\n",
        "    data[\"mean_\" + g_feat + \"_day\"] = data.apply(lambda row: mean_day_dict[row[g_feat]], axis=1)\n",
        "    mean_hour_dict = dict(data.groupby(g_feat)['created_hour'].mean())\n",
        "    data[\"mean_\" + g_feat + \"_hour\"] = data.apply(lambda row: mean_hour_dict[row[g_feat]], axis=1)\n",
        "    mean_weekday_dict = dict(data.groupby(g_feat)['created_dayofweek'].mean())\n",
        "    data[\"mean_\" + g_feat + \"_weekday\"] = data.apply(lambda row: mean_weekday_dict[row[g_feat]], axis=1)\n",
        "    mean_passed_dict = dict(data.groupby(g_feat)['total_days'].mean())\n",
        "    data[\"mean_\" + g_feat + \"_passed\"] = data.apply(lambda row: mean_passed_dict[row[g_feat]], axis=1)\n",
        "    return data\n",
        "\n",
        "g_feat = 'manager_id'\n",
        "group_with_time_features(df_train,g_feat)\n",
        "features_to_add = [\"mean_\" + g_feat + \"_month\",\"mean_\" + g_feat + \"_day\",\"mean_\" + g_feat + \"_hour\",\"mean_\" + g_feat + \"_weekday\",\"mean_\" + g_feat + \"_passed\"]"
      ],
      "execution_count": null,
      "outputs": []
    },
    {
      "cell_type": "code",
      "metadata": {
        "pycharm": {
          "name": "#%%\n"
        },
        "id": "vnRl4bifUB0k"
      },
      "source": [
        "X = df_train[features_to_use]\n",
        "y = df_train.interest_level\n",
        "X_train, X_val, y_train, y_val = train_test_split(X, y, test_size=0.33)"
      ],
      "execution_count": null,
      "outputs": []
    },
    {
      "cell_type": "code",
      "metadata": {
        "pycharm": {
          "name": "#%%\n"
        },
        "id": "TFOW7sLEUB0o"
      },
      "source": [
        "clf = RandomForestClassifier(n_estimators=1000)\n",
        "clf.fit(X_train,y_train)\n",
        "y_val_pred = clf.predict_proba(X_val)\n",
        "log_loss(y_val, y_val_pred)"
      ],
      "execution_count": null,
      "outputs": []
    },
    {
      "cell_type": "code",
      "metadata": {
        "pycharm": {
          "name": "#%%\n"
        },
        "id": "4H_rZUyjUB0q"
      },
      "source": [
        "def runXGB(train_X, train_y, val_X, val_y=None, test_X=None, feature_names=None, seed_val=0, num_rounds=1000):\n",
        "    param = {}\n",
        "    param['objective'] = 'multi:softprob'\n",
        "    param['eta'] = 0.03\n",
        "    param['max_depth'] = 6\n",
        "    param['verbose'] = 0\n",
        "    param['num_class'] = 3\n",
        "    param['eval_metric'] = \"mlogloss\"\n",
        "    param['min_child_weight'] = 1\n",
        "    param['subsample'] = 0.7\n",
        "    param['colsample_bytree'] = 0.7\n",
        "    param['seed'] = seed_val\n",
        "    param['nthread'] = 12\n",
        "    num_rounds = num_rounds\n",
        "\n",
        "    plst = list(param.items())\n",
        "    xgtrain = xgb.DMatrix(train_X, label=train_y)\n",
        "\n",
        "    if val_y is not None:\n",
        "        xgval = xgb.DMatrix(val_X, label=val_y)\n",
        "        watchlist = [ (xgtrain,'train'), (xgval, 'val') ]\n",
        "        model = xgb.train(plst, xgtrain, num_rounds, watchlist, early_stopping_rounds=50)\n",
        "    else:\n",
        "        model = xgb.train(plst, xgtrain, num_rounds)\n",
        "    # xgtest = xgb.DMatrix(test_X)\n",
        "\n",
        "    # pred_test_y = model.predict(xgtest)\n",
        "    # return pred_test_y, model\n",
        "    return model"
      ],
      "execution_count": null,
      "outputs": []
    },
    {
      "cell_type": "code",
      "metadata": {
        "pycharm": {
          "name": "#%%\n"
        },
        "id": "YqxHTVToUB0s"
      },
      "source": [
        "target_num_map = {'high':0, 'medium':1, 'low':2}\n",
        "train_y = np.array(df_train['interest_level'].apply(lambda x: target_num_map[x]))"
      ],
      "execution_count": null,
      "outputs": []
    },
    {
      "cell_type": "code",
      "metadata": {
        "pycharm": {
          "name": "#%%\n"
        },
        "id": "u2YsCrPPUB0u"
      },
      "source": [
        "cv_scores = []\n",
        "test_pred = None\n",
        "train_X = df_train[features_to_use]\n",
        "\n",
        "kf = KFold(n_splits=5, shuffle=True, random_state=2016)\n",
        "for dev_index, val_index in kf.split(range(train_X.shape[0])):\n",
        "        dev_X, val_X = train_X.iloc[dev_index,:], train_X.iloc[val_index,:]\n",
        "        dev_y, val_y = train_y[dev_index], train_y[val_index]\n",
        "        model = runXGB(dev_X, dev_y, val_X, val_y,  num_rounds=2000)\n"
      ],
      "execution_count": null,
      "outputs": []
    },
    {
      "cell_type": "code",
      "metadata": {
        "pycharm": {
          "name": "#%%\n"
        },
        "id": "QOuxQMqWUB0v"
      },
      "source": [
        "test_pred /= 5\n",
        "out_df = pd.DataFrame(test_pred)\n",
        "out_df.columns = [\"high\", \"medium\", \"low\"]\n",
        "\n",
        "pd.get_dummies(df_train,columns= ['interest_level'])"
      ],
      "execution_count": null,
      "outputs": []
    },
    {
      "cell_type": "code",
      "metadata": {
        "pycharm": {
          "name": "#%%\n"
        },
        "id": "aTuPsYxXUB0w"
      },
      "source": [
        ""
      ],
      "execution_count": null,
      "outputs": []
    },
    {
      "cell_type": "code",
      "metadata": {
        "pycharm": {
          "name": "#%%\n"
        },
        "id": "XH8DEpS4UB0y"
      },
      "source": [
        "from xgboost import plot_importance\n",
        "plot_importance(model)"
      ],
      "execution_count": null,
      "outputs": []
    },
    {
      "cell_type": "code",
      "metadata": {
        "pycharm": {
          "name": "#%%\n"
        },
        "id": "GgBbEvN1UB0z"
      },
      "source": [
        "\n",
        "\n",
        "df_train.columns"
      ],
      "execution_count": null,
      "outputs": []
    },
    {
      "cell_type": "code",
      "metadata": {
        "pycharm": {
          "name": "#%%\n"
        },
        "id": "GRmvqqIfUB01"
      },
      "source": [
        "\n"
      ],
      "execution_count": null,
      "outputs": []
    },
    {
      "cell_type": "code",
      "metadata": {
        "id": "DdIq31CKdgcT"
      },
      "source": [
        "df_train.tail()"
      ],
      "execution_count": null,
      "outputs": []
    },
    {
      "cell_type": "code",
      "metadata": {
        "id": "RL8rr2u8dVbb"
      },
      "source": [
        "df_train.to_csv(PATH + 'df_train.csv')"
      ],
      "execution_count": null,
      "outputs": []
    }
  ]
}